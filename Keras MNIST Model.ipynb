{
 "cells": [
  {
   "cell_type": "code",
   "execution_count": 1,
   "metadata": {},
   "outputs": [
    {
     "name": "stderr",
     "output_type": "stream",
     "text": [
      "Using TensorFlow backend.\n"
     ]
    },
    {
     "name": "stdout",
     "output_type": "stream",
     "text": [
      "Downloading data from https://s3.amazonaws.com/img-datasets/mnist.npz\n",
      "11493376/11490434 [==============================] - 1s 0us/step\n",
      "Train on 60000 samples, validate on 10000 samples\n",
      "Epoch 1/10\n",
      "60000/60000 [==============================] - 118s 2ms/step - loss: 10.6896 - acc: 0.3208 - val_loss: 8.6329 - val_acc: 0.4585\n",
      "Epoch 2/10\n",
      "60000/60000 [==============================] - 115s 2ms/step - loss: 8.4600 - acc: 0.4682 - val_loss: 8.3713 - val_acc: 0.4752\n",
      "Epoch 3/10\n",
      "60000/60000 [==============================] - 119s 2ms/step - loss: 7.2936 - acc: 0.5365 - val_loss: 6.5756 - val_acc: 0.5776\n",
      "Epoch 4/10\n",
      "60000/60000 [==============================] - 125s 2ms/step - loss: 4.6113 - acc: 0.6935 - val_loss: 3.6996 - val_acc: 0.7575\n",
      "Epoch 5/10\n",
      "60000/60000 [==============================] - 121s 2ms/step - loss: 3.4842 - acc: 0.7726 - val_loss: 3.5540 - val_acc: 0.7683\n",
      "Epoch 6/10\n",
      "60000/60000 [==============================] - 144s 2ms/step - loss: 3.2391 - acc: 0.7841 - val_loss: 2.0779 - val_acc: 0.8359\n",
      "Epoch 7/10\n",
      "60000/60000 [==============================] - 147s 2ms/step - loss: 0.6947 - acc: 0.9226 - val_loss: 0.3081 - val_acc: 0.9552\n",
      "Epoch 8/10\n",
      "60000/60000 [==============================] - 160s 3ms/step - loss: 0.2282 - acc: 0.9586 - val_loss: 0.2125 - val_acc: 0.9597\n",
      "Epoch 9/10\n",
      "60000/60000 [==============================] - 152s 3ms/step - loss: 0.1570 - acc: 0.9655 - val_loss: 0.1538 - val_acc: 0.9676\n",
      "Epoch 10/10\n",
      "60000/60000 [==============================] - 148s 2ms/step - loss: 0.1210 - acc: 0.9721 - val_loss: 0.1143 - val_acc: 0.9753\n"
     ]
    },
    {
     "data": {
      "text/plain": [
       "<keras.callbacks.History at 0x234b8930978>"
      ]
     },
     "execution_count": 1,
     "metadata": {},
     "output_type": "execute_result"
    }
   ],
   "source": [
    "from keras import Sequential\n",
    "import numpy as np\n",
    "import tensorflow as tf\n",
    "from keras.layers import Reshape, Conv2D, Dropout, MaxPooling2D, Flatten, Dense\n",
    "from keras.datasets import mnist  # MNIST dataset (Numbers)\n",
    "from keras.utils import to_categorical\n",
    "\n",
    "\n",
    "(x, y), (xt, yt) = mnist.load_data() \n",
    "y = to_categorical(y, 10)\n",
    "yt = to_categorical(yt, 10)\n",
    "\n",
    "model = Sequential ([\n",
    "    Reshape((28, 28, 1), input_shape=(28, 28)),\n",
    "    Conv2D(64, (3,3)), Dropout(0.2), MaxPooling2D(),\n",
    "    Conv2D(64, (3,3)), Dropout(0.2), MaxPooling2D(),\n",
    "    Flatten(), \n",
    "    Dense(64, activation=\"relu\"),\n",
    "    Dense(10, activation=\"softmax\"),\n",
    "    \n",
    "])\n",
    "\n",
    "model.compile(optimizer='adam', loss='categorical_crossentropy', metrics=['acc'])\n",
    "model.fit(x, y, epochs=10, batch_size=2048, validation_data=(xt, yt), shuffle=True)"
   ]
  },
  {
   "cell_type": "code",
   "execution_count": null,
   "metadata": {},
   "outputs": [],
   "source": []
  }
 ],
 "metadata": {
  "kernelspec": {
   "display_name": "Python 3",
   "language": "python",
   "name": "python3"
  },
  "language_info": {
   "codemirror_mode": {
    "name": "ipython",
    "version": 3
   },
   "file_extension": ".py",
   "mimetype": "text/x-python",
   "name": "python",
   "nbconvert_exporter": "python",
   "pygments_lexer": "ipython3",
   "version": "3.6.5"
  }
 },
 "nbformat": 4,
 "nbformat_minor": 2
}
